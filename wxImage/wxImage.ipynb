{
 "cells": [
  {
   "cell_type": "markdown",
   "metadata": {},
   "source": [
    "原文地址：[itchat+pillow实现微信好友头像爬取和拼接](https://zhuanlan.zhihu.com/p/25782937?group_id=826931026017292288)"
   ]
  },
  {
   "cell_type": "code",
   "execution_count": 1,
   "metadata": {},
   "outputs": [
    {
     "name": "stdout",
     "output_type": "stream",
     "text": [
      "2.7.13 (default, Jan 19 2017, 14:48:08) \n",
      "[GCC 6.3.0 20170118]\n",
      "sys.version_info(major=2, minor=7, micro=13, releaselevel='final', serial=0)\n"
     ]
    }
   ],
   "source": [
    "#我的Python版本是：\n",
    "import sys  \n",
    "print sys.version   \n",
    "print sys.version_info "
   ]
  },
  {
   "cell_type": "markdown",
   "metadata": {},
   "source": [
    "这里我用Python2.7，实际上代码在Python3.6,3.5运行一切正常\n",
    "# 核心\n",
    "- itchat读取微信好友列表和头像\n",
    "- 用pillow拼接头像画图\n",
    "\n",
    "登录微信网页版，`itchat.auto_login()`会生成QR码，使用手机扫一扫即可登录。\n",
    "\n",
    "提示`Please scan the QR code to log in.`时，用手机扫描弹出的二维码\n",
    "\n",
    "[命令行二维码技巧：](https://itchat.readthedocs.io/zh/latest/#_4)\n",
    "1. 通过以下命令可以在登陆的时候使用命令行显示二维码：`itchat.auto_login(enableCmdQR=True)`\n",
    "2. 若背景色为浅色（白色），可以将enableCmdQR赋值为负值：`itchat.auto_login(enableCmdQR=-1)`\n"
   ]
  },
  {
   "cell_type": "code",
   "execution_count": 2,
   "metadata": {},
   "outputs": [
    {
     "name": "stdout",
     "output_type": "stream",
     "text": [
      "█\r"
     ]
    },
    {
     "name": "stderr",
     "output_type": "stream",
     "text": [
      "Getting uuid of QR code.\n",
      "Downloading QR code.\n",
      "Please scan the QR code to log in.\n",
      "Please press confirm on your phone.\n",
      "Loading the contact, this may take a little while.\n",
      "Login successfully as 小尧\n"
     ]
    }
   ],
   "source": [
    "import itchat\n",
    "itchat.auto_login()"
   ]
  },
  {
   "cell_type": "markdown",
   "metadata": {},
   "source": [
    "使用`friends`储存好友列表，`update=True`可以确保好友列表是最新的。注意好友列表第0个是自己"
   ]
  },
  {
   "cell_type": "code",
   "execution_count": 3,
   "metadata": {
    "collapsed": true
   },
   "outputs": [],
   "source": [
    "friends = itchat.get_friends(update=True)[0:]"
   ]
  },
  {
   "cell_type": "markdown",
   "metadata": {},
   "source": [
    "`friends`好友列表第0个是自己，我们可以看一下。顺带说一下，好友列表的顺序 **（貌似）** 是按照好友添加顺序"
   ]
  },
  {
   "cell_type": "code",
   "execution_count": 4,
   "metadata": {},
   "outputs": [
    {
     "data": {
      "text/plain": [
       "<User: {'UserName': u'@9eaa312b152f53c9898099716c11be4e', 'City': u'\\u53a6\\u95e8', 'DisplayName': '', 'UniFriend': 0, 'OwnerUin': 0, 'MemberList': <ContactList: []>, 'PYQuanPin': u'xiaoyao', 'RemarkPYInitial': u'', 'Uin': 31873955, 'AppAccountFlag': 0, 'VerifyFlag': 0, 'Province': u'\\u798f\\u5efa', 'KeyWord': u'Lai', 'RemarkName': u'', 'PYInitial': u'XY', 'ChatRoomId': 0, u'IsOwner': 0, 'HideInputBarFlag': 0, u'HeadImgFlag': 1, 'EncryChatRoomId': '', 'AttrStatus': 4318311, 'SnsFlag': 177, 'MemberCount': 0, u'WebWxPluginSwitch': 3, 'Alias': '', 'Signature': u'\\u68a6\\u60f3\\u8981\\u6709\\uff0c\\u8d76\\u8def\\u8981\\u7d27\\u3002\\u5927\\u7ea6\\u534a\\u5e74\\u53d1\\u4e00\\u6b21\\u670b\\u53cb\\u5708\\u3002', 'ContactFlag': 7, 'NickName': u'\\u5c0f\\u5c27', 'RemarkPYQuanPin': u'', 'HeadImgUrl': u'/cgi-bin/mmwebwx-bin/webwxgeticon?seq=621078783&username=@9eaa312b152f53c9898099716c11be4e&skey=@crypt_a6fa4b82_18f568cc5b6d337ca61905447f963a22', 'Sex': 1, 'StarFriend': 0, 'Statues': 0}>"
      ]
     },
     "execution_count": 4,
     "metadata": {},
     "output_type": "execute_result"
    }
   ],
   "source": [
    "friends[0]"
   ]
  },
  {
   "cell_type": "markdown",
   "metadata": {},
   "source": [
    "创建一个目录，用来保存所有好友头像。注意使用`os.chdir(user)`切换个到工作目录，方便后续保存图片。\n",
    "\n"
   ]
  },
  {
   "cell_type": "code",
   "execution_count": null,
   "metadata": {
    "scrolled": true
   },
   "outputs": [
    {
     "name": "stdout",
     "output_type": "stream",
     "text": [
      "xiaoyao\n"
     ]
    },
    {
     "data": {
      "text/plain": [
       "'/home/yao/\\xe6\\x96\\x87\\xe6\\xa1\\xa3/PythonApplication1/jupyter_notebook/xiaoyao'"
      ]
     },
     "execution_count": 5,
     "metadata": {},
     "output_type": "execute_result"
    }
   ],
   "source": [
    "import os\n",
    "user = friends[0][\"PYQuanPin\"][0:]\n",
    "print(user)\n",
    "os.mkdir(user)\n",
    "os.chdir(user)\n",
    "os.getcwd()"
   ]
  },
  {
   "cell_type": "markdown",
   "metadata": {},
   "source": [
    "批量下载好友头像，储存到`friends[i]['img']`中。然后我们`print(friends[0]`看看有没有变化（正常情况下应该可以看到增加了img，以二进制方式储存头像）。因为我家网络经常链接失败，所以用`try...except...`来写这一段。\n",
    "\n",
    "`\"UserName\"`这个字段开头总有个@符号，直接暴力去除。如果不喜欢的话，可以把`\"UserName\"`换成`\"PYQuanPin\"`，不过不保证重名。\n",
    "\n",
    "同时把头像保存在`user`目录地下，方便下一步使用。\n",
    "\n",
    "### python使用open经常报错：TypeError: an integer is required的解决方案\n",
    "错误是由于从os模块引入了所有的函数导致的，os模块下有一个open函数，接受整型的文件描述符和打开模式，`from os import *`引入os模块的open函数，覆盖了python内建的open函数，导致错误。删除`from os import *`这行，然后再根据需要，指定引入os模块下的函数"
   ]
  },
  {
   "cell_type": "code",
   "execution_count": null,
   "metadata": {
    "scrolled": true
   },
   "outputs": [],
   "source": [
    "for i in friends:\n",
    "    try:\n",
    "        i['img'] = itchat.get_head_img(userName=i[\"UserName\"])\n",
    "        i['ImgName']=i[\"UserName\"][1:] + \".jpg\"\n",
    "    except ConnectionError:\n",
    "        print('get '+i[\"UserName\"][1:]+' fail')\n",
    "    fileImage=open(i['ImgName'],'wb')\n",
    "    fileImage.write(i['img'])\n",
    "    fileImage.close()\n",
    "#这里不建议看friends[0]，太长了"
   ]
  },
  {
   "cell_type": "markdown",
   "metadata": {},
   "source": [
    "看看我有多少个好友（friends里面有多少条记录），看看下载了多少头像（`os.listdir(os.getcwd())`看目录底下有多少文件）"
   ]
  },
  {
   "cell_type": "code",
   "execution_count": null,
   "metadata": {},
   "outputs": [],
   "source": [
    "friendsSum=len(friends)\n",
    "imgList=os.listdir(os.getcwd())\n",
    "numImages=len(imgList)\n",
    "print('I have ',friendsSum,'friend(s), and I got ',numImages,'image(s)')"
   ]
  },
  {
   "cell_type": "markdown",
   "metadata": {},
   "source": [
    "单个图像边长`eachsize=64`像素，一行`eachline=int(sqrt(numImages))+1`个头像，最终图像边长`eachSize*eachline`"
   ]
  },
  {
   "cell_type": "code",
   "execution_count": null,
   "metadata": {},
   "outputs": [],
   "source": [
    "import math\n",
    "eachSize=64\n",
    "eachLine=int(math.sqrt(numImages))+1\n",
    "print(\"单个图像边长\",eachSize,\"像素，一行\",eachLine,\"个头像，最终图像边长\",eachSize*eachLine)"
   ]
  },
  {
   "cell_type": "markdown",
   "metadata": {},
   "source": [
    "import图像处理Python图像处理库：PIL中Image\n",
    "1. 新建一块画布\n",
    "2. 在坐标（0,0）位置放上第一个人头像\n",
    "3. 向右平移坐标"
   ]
  },
  {
   "cell_type": "code",
   "execution_count": null,
   "metadata": {},
   "outputs": [],
   "source": [
    "import PIL.Image as Image\n",
    "toImage = Image.new('RGBA', (eachSize*eachLine,eachSize*eachLine))#新建一块画布\n",
    "x = 0\n",
    "y = 0\n",
    "for i in imgList:\n",
    "    try:\n",
    "        img = Image.open(i)#打开图片\n",
    "    except IOError:\n",
    "        print(\"Error: 没有找到文件或读取文件失败\",i)\n",
    "    else:\n",
    "        img = img.resize((eachSize, eachSize), Image.ANTIALIAS)#缩小图片\n",
    "        toImage.paste(img, (x * eachSize, y * eachSize))#拼接图片\n",
    "        x += 1\n",
    "    if x == eachLine:\n",
    "        x = 0\n",
    "        y += 1\n",
    "print(\"图像拼接完成\")"
   ]
  },
  {
   "cell_type": "markdown",
   "metadata": {},
   "source": [
    "看一下拼接好的图像是什么样的（注意文件过大是常有的现象，请先去掉注释）\n",
    "回到上一级目录（没人想在一堆文件里面找拼图吧？）\n",
    "然后保存文件，顺带发送给文件传输助手"
   ]
  },
  {
   "cell_type": "code",
   "execution_count": null,
   "metadata": {},
   "outputs": [],
   "source": [
    "#toImage.show()\n",
    "\n",
    "os.chdir(os.path.pardir)\n",
    "os.getcwd()\n",
    "\n",
    "toImage.save(friends[0][\"PYQuanPin\"][0:]+\".jpg\")\n",
    "itchat.send_image(friends[0][\"PYQuanPin\"][0:]+\".jpg\", 'filehelper')"
   ]
  },
  {
   "cell_type": "markdown",
   "metadata": {},
   "source": [
    "至此，大功告成，别忘记退出网页版微信"
   ]
  },
  {
   "cell_type": "code",
   "execution_count": null,
   "metadata": {},
   "outputs": [],
   "source": [
    "itchat.logout()"
   ]
  }
 ],
 "metadata": {
  "kernelspec": {
   "display_name": "Python 3",
   "language": "python",
   "name": "python3"
  },
  "language_info": {
   "codemirror_mode": {
    "name": "ipython",
    "version": 2
   },
   "file_extension": ".py",
   "mimetype": "text/x-python",
   "name": "python",
   "nbconvert_exporter": "python",
   "pygments_lexer": "ipython2",
   "version": "2.7.13"
  }
 },
 "nbformat": 4,
 "nbformat_minor": 2
}
